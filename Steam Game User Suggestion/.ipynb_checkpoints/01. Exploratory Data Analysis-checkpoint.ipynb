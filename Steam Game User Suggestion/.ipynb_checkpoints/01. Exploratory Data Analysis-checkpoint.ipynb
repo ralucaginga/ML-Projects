{
 "cells": [
  {
   "cell_type": "code",
   "execution_count": 1,
   "id": "25e4f630",
   "metadata": {},
   "outputs": [],
   "source": [
    "import pandas as pd\n",
    "import numpy as np\n",
    "import matplotlib.pyplot as plt\n",
    "import seaborn as sns"
   ]
  },
  {
   "cell_type": "code",
   "execution_count": 2,
   "id": "13b6071e",
   "metadata": {},
   "outputs": [],
   "source": [
    "train = pd.read_csv(\"train.csv\")\n",
    "test = pd.read_csv(\"test.csv\")\n",
    "game_details = pd.read_csv(\"game_overview.csv\")"
   ]
  },
  {
   "cell_type": "markdown",
   "id": "b2109842",
   "metadata": {},
   "source": [
    "## Data Analysis & Visualization"
   ]
  },
  {
   "cell_type": "markdown",
   "id": "1266a5f6",
   "metadata": {},
   "source": [
    "#### 1. Missing values\n",
    "\n",
    "We noticed that *year* column contains missing"
   ]
  },
  {
   "cell_type": "code",
   "execution_count": 9,
   "id": "c0012b55",
   "metadata": {},
   "outputs": [
    {
     "data": {
      "text/plain": [
       "review_id            0\n",
       "title                0\n",
       "year               178\n",
       "user_review          0\n",
       "user_suggestion      0\n",
       "dtype: int64"
      ]
     },
     "execution_count": 9,
     "metadata": {},
     "output_type": "execute_result"
    }
   ],
   "source": [
    "train.isnull().sum()"
   ]
  },
  {
   "cell_type": "code",
   "execution_count": 10,
   "id": "518946e6",
   "metadata": {},
   "outputs": [
    {
     "data": {
      "text/plain": [
       "review_id       0\n",
       "title           0\n",
       "year           67\n",
       "user_review     0\n",
       "dtype: int64"
      ]
     },
     "execution_count": 10,
     "metadata": {},
     "output_type": "execute_result"
    }
   ],
   "source": [
    "test.isnull().sum()"
   ]
  },
  {
   "cell_type": "code",
   "execution_count": 11,
   "id": "06197de9",
   "metadata": {},
   "outputs": [
    {
     "data": {
      "text/plain": [
       "title        0\n",
       "developer    0\n",
       "publisher    0\n",
       "tags         0\n",
       "overview     0\n",
       "dtype: int64"
      ]
     },
     "execution_count": 11,
     "metadata": {},
     "output_type": "execute_result"
    }
   ],
   "source": [
    "game_details.isnull().sum()"
   ]
  },
  {
   "cell_type": "code",
   "execution_count": null,
   "id": "bf66d973",
   "metadata": {},
   "outputs": [],
   "source": []
  },
  {
   "cell_type": "code",
   "execution_count": null,
   "id": "d481926e",
   "metadata": {},
   "outputs": [],
   "source": []
  },
  {
   "cell_type": "code",
   "execution_count": null,
   "id": "b07d1ffc",
   "metadata": {},
   "outputs": [],
   "source": []
  },
  {
   "cell_type": "code",
   "execution_count": 5,
   "id": "0dbad3f0",
   "metadata": {},
   "outputs": [
    {
     "name": "stderr",
     "output_type": "stream",
     "text": [
      "C:\\ProgramData\\Anaconda3\\lib\\site-packages\\seaborn\\_decorators.py:36: FutureWarning: Pass the following variable as a keyword arg: x. From version 0.12, the only valid positional argument will be `data`, and passing other arguments without an explicit keyword will result in an error or misinterpretation.\n",
      "  warnings.warn(\n"
     ]
    },
    {
     "data": {
      "image/png": "[encoded data removed]",
      "text/plain": [
       "<Figure size 432x288 with 1 Axes>"
      ]
     },
     "metadata": {
      "needs_background": "light"
     },
     "output_type": "display_data"
    }
   ],
   "source": [
    "sns.countplot(train['user_suggestion'])\n",
    "plt.xlabel('Class')\n",
    "plt.title('Distribution of data in each class')\n",
    "plt.ylabel('Count')\n",
    "plt.show()"
   ]
  },
  {
   "cell_type": "code",
   "execution_count": 8,
   "id": "48ca3824",
   "metadata": {},
   "outputs": [
    {
     "data": {
      "text/html": [
       "<div>\n",
       "<style scoped>\n",
       "    .dataframe tbody tr th:only-of-type {\n",
       "        vertical-align: middle;\n",
       "    }\n",
       "\n",
       "    .dataframe tbody tr th {\n",
       "        vertical-align: top;\n",
       "    }\n",
       "\n",
       "    .dataframe thead th {\n",
       "        text-align: right;\n",
       "    }\n",
       "</style>\n",
       "<table border=\"1\" class=\"dataframe\">\n",
       "  <thead>\n",
       "    <tr style=\"text-align: right;\">\n",
       "      <th></th>\n",
       "      <th>review_id</th>\n",
       "      <th>title</th>\n",
       "      <th>year</th>\n",
       "      <th>user_review</th>\n",
       "      <th>user_suggestion</th>\n",
       "    </tr>\n",
       "  </thead>\n",
       "  <tbody>\n",
       "    <tr>\n",
       "      <th>0</th>\n",
       "      <td>1</td>\n",
       "      <td>Spooky's Jump Scare Mansion</td>\n",
       "      <td>2016.0</td>\n",
       "      <td>I'm scared and hearing creepy voices.  So I'll...</td>\n",
       "      <td>1</td>\n",
       "    </tr>\n",
       "    <tr>\n",
       "      <th>1</th>\n",
       "      <td>2</td>\n",
       "      <td>Spooky's Jump Scare Mansion</td>\n",
       "      <td>2016.0</td>\n",
       "      <td>Best game, more better than Sam Pepper's YouTu...</td>\n",
       "      <td>1</td>\n",
       "    </tr>\n",
       "    <tr>\n",
       "      <th>2</th>\n",
       "      <td>3</td>\n",
       "      <td>Spooky's Jump Scare Mansion</td>\n",
       "      <td>2016.0</td>\n",
       "      <td>A littly iffy on the controls, but once you kn...</td>\n",
       "      <td>1</td>\n",
       "    </tr>\n",
       "    <tr>\n",
       "      <th>3</th>\n",
       "      <td>4</td>\n",
       "      <td>Spooky's Jump Scare Mansion</td>\n",
       "      <td>2015.0</td>\n",
       "      <td>Great game, fun and colorful and all that.A si...</td>\n",
       "      <td>1</td>\n",
       "    </tr>\n",
       "    <tr>\n",
       "      <th>4</th>\n",
       "      <td>5</td>\n",
       "      <td>Spooky's Jump Scare Mansion</td>\n",
       "      <td>2015.0</td>\n",
       "      <td>Not many games have the cute tag right next to...</td>\n",
       "      <td>1</td>\n",
       "    </tr>\n",
       "    <tr>\n",
       "      <th>...</th>\n",
       "      <td>...</td>\n",
       "      <td>...</td>\n",
       "      <td>...</td>\n",
       "      <td>...</td>\n",
       "      <td>...</td>\n",
       "    </tr>\n",
       "    <tr>\n",
       "      <th>17489</th>\n",
       "      <td>25535</td>\n",
       "      <td>EverQuest II</td>\n",
       "      <td>2012.0</td>\n",
       "      <td>Arguably the single greatest mmorp that exists...</td>\n",
       "      <td>1</td>\n",
       "    </tr>\n",
       "    <tr>\n",
       "      <th>17490</th>\n",
       "      <td>25536</td>\n",
       "      <td>EverQuest II</td>\n",
       "      <td>2017.0</td>\n",
       "      <td>An older game, to be sure, but has its own cha...</td>\n",
       "      <td>1</td>\n",
       "    </tr>\n",
       "    <tr>\n",
       "      <th>17491</th>\n",
       "      <td>25537</td>\n",
       "      <td>EverQuest II</td>\n",
       "      <td>2011.0</td>\n",
       "      <td>When I frist started playing Everquest 2 it wa...</td>\n",
       "      <td>1</td>\n",
       "    </tr>\n",
       "    <tr>\n",
       "      <th>17492</th>\n",
       "      <td>25538</td>\n",
       "      <td>EverQuest II</td>\n",
       "      <td>NaN</td>\n",
       "      <td>cool game. THe only thing that REALLY PISSES M...</td>\n",
       "      <td>1</td>\n",
       "    </tr>\n",
       "    <tr>\n",
       "      <th>17493</th>\n",
       "      <td>25539</td>\n",
       "      <td>EverQuest II</td>\n",
       "      <td>NaN</td>\n",
       "      <td>this game since I was a little kid, always hav...</td>\n",
       "      <td>1</td>\n",
       "    </tr>\n",
       "  </tbody>\n",
       "</table>\n",
       "<p>17494 rows × 5 columns</p>\n",
       "</div>"
      ],
      "text/plain": [
       "       review_id                        title    year  \\\n",
       "0              1  Spooky's Jump Scare Mansion  2016.0   \n",
       "1              2  Spooky's Jump Scare Mansion  2016.0   \n",
       "2              3  Spooky's Jump Scare Mansion  2016.0   \n",
       "3              4  Spooky's Jump Scare Mansion  2015.0   \n",
       "4              5  Spooky's Jump Scare Mansion  2015.0   \n",
       "...          ...                          ...     ...   \n",
       "17489      25535                 EverQuest II  2012.0   \n",
       "17490      25536                 EverQuest II  2017.0   \n",
       "17491      25537                 EverQuest II  2011.0   \n",
       "17492      25538                 EverQuest II     NaN   \n",
       "17493      25539                 EverQuest II     NaN   \n",
       "\n",
       "                                             user_review  user_suggestion  \n",
       "0      I'm scared and hearing creepy voices.  So I'll...                1  \n",
       "1      Best game, more better than Sam Pepper's YouTu...                1  \n",
       "2      A littly iffy on the controls, but once you kn...                1  \n",
       "3      Great game, fun and colorful and all that.A si...                1  \n",
       "4      Not many games have the cute tag right next to...                1  \n",
       "...                                                  ...              ...  \n",
       "17489  Arguably the single greatest mmorp that exists...                1  \n",
       "17490  An older game, to be sure, but has its own cha...                1  \n",
       "17491  When I frist started playing Everquest 2 it wa...                1  \n",
       "17492  cool game. THe only thing that REALLY PISSES M...                1  \n",
       "17493  this game since I was a little kid, always hav...                1  \n",
       "\n",
       "[17494 rows x 5 columns]"
      ]
     },
     "execution_count": 8,
     "metadata": {},
     "output_type": "execute_result"
    }
   ],
   "source": [
    "train"
   ]
  },
  {
   "cell_type": "code",
   "execution_count": null,
   "id": "82f0cdba",
   "metadata": {},
   "outputs": [],
   "source": []
  }
 ],
 "metadata": {
  "kernelspec": {
   "display_name": "Python 3 (ipykernel)",
   "language": "python",
   "name": "python3"
  },
  "language_info": {
   "codemirror_mode": {
    "name": "ipython",
    "version": 3
   },
   "file_extension": ".py",
   "mimetype": "text/x-python",
   "name": "python",
   "nbconvert_exporter": "python",
   "pygments_lexer": "ipython3",
   "version": "3.9.7"
  }
 },
 "nbformat": 4,
 "nbformat_minor": 5
}
